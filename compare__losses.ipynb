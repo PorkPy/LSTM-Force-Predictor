{
  "nbformat": 4,
  "nbformat_minor": 0,
  "metadata": {
    "colab": {
      "name": "compare _losses.ipynb",
      "provenance": [],
      "collapsed_sections": [],
      "authorship_tag": "ABX9TyP9tdsFiRbgUqBfmL842v8G",
      "include_colab_link": true
    },
    "kernelspec": {
      "name": "python3",
      "display_name": "Python 3"
    }
  },
  "cells": [
    {
      "cell_type": "markdown",
      "metadata": {
        "id": "view-in-github",
        "colab_type": "text"
      },
      "source": [
        "<a href=\"https://colab.research.google.com/github/PorkPy/LSTM-Force-Predictor/blob/master/compare__losses.ipynb\" target=\"_parent\"><img src=\"https://colab.research.google.com/assets/colab-badge.svg\" alt=\"Open In Colab\"/></a>"
      ]
    },
    {
      "cell_type": "code",
      "metadata": {
        "id": "brU0wKMFTENa",
        "colab_type": "code",
        "colab": {
          "base_uri": "https://localhost:8080/",
          "height": 34
        },
        "outputId": "fba36927-61d7-44e8-b643-e6e0d50714e3"
      },
      "source": [
        "from google.colab import drive\n",
        "drive.mount('/content/drive')"
      ],
      "execution_count": null,
      "outputs": [
        {
          "output_type": "stream",
          "text": [
            "Drive already mounted at /content/drive; to attempt to forcibly remount, call drive.mount(\"/content/drive\", force_remount=True).\n"
          ],
          "name": "stdout"
        }
      ]
    },
    {
      "cell_type": "code",
      "metadata": {
        "id": "srmPF3KcS7eP",
        "colab_type": "code",
        "colab": {
          "base_uri": "https://localhost:8080/",
          "height": 34
        },
        "outputId": "731a33d5-1faa-4552-8b39-a54f23441937"
      },
      "source": [
        "!pip install PyPDF2\n",
        "import os, PyPDF2\n",
        "import sys\n",
        "import glob\n",
        "from PyPDF2 import PdfFileReader, PdfFileWriter\n",
        "\n",
        " "
      ],
      "execution_count": null,
      "outputs": [
        {
          "output_type": "stream",
          "text": [
            "Requirement already satisfied: PyPDF2 in /usr/local/lib/python3.6/dist-packages (1.26.0)\n"
          ],
          "name": "stdout"
        }
      ]
    },
    {
      "cell_type": "code",
      "metadata": {
        "id": "4lxZkKSGLhfT",
        "colab_type": "code",
        "colab": {
          "base_uri": "https://localhost:8080/",
          "height": 510
        },
        "outputId": "2b79d6b8-b7b7-4159-fc45-cd9cd2224168"
      },
      "source": [
        "pdfMerger = PyPDF2.PdfFileMerger()\n",
        "\n",
        "for i in range(70,98):\n",
        "    print(i)\n",
        "    PATH = (f'/content/drive/My Drive/PhD/PhD/lstm/model{i}*/loss.pdf')\n",
        "    x = glob.glob(PATH)\n",
        "    x = x[0]\n",
        "    f = open(x, 'rb') \n",
        "    \n",
        "    pdfMerger.append(f) \n",
        "\n",
        "       \n",
        "    # writing combined pdf to output pdf file \n",
        "with open('/content/drive/My Drive/PhD/PhD/lstm/loss/loss.pdf', 'wb') as g: \n",
        "    pdfMerger.write(g) \n",
        "    \n",
        "f.close()\n",
        "    \n",
        "print(\"Done\")\n"
      ],
      "execution_count": null,
      "outputs": [
        {
          "output_type": "stream",
          "text": [
            "70\n",
            "71\n",
            "72\n",
            "73\n",
            "74\n",
            "75\n",
            "76\n",
            "77\n",
            "78\n",
            "79\n",
            "80\n",
            "81\n",
            "82\n",
            "83\n",
            "84\n",
            "85\n",
            "86\n",
            "87\n",
            "88\n",
            "89\n",
            "90\n",
            "91\n",
            "92\n",
            "93\n",
            "94\n",
            "95\n",
            "96\n",
            "97\n",
            "Done\n"
          ],
          "name": "stdout"
        }
      ]
    },
    {
      "cell_type": "code",
      "metadata": {
        "id": "Z_YwibYeTHAg",
        "colab_type": "code",
        "colab": {}
      },
      "source": [
        "# pdf = PdfPages(f\"/content/drive/My Drive/PhD/PhD/lstm/loss/all_losses.pdf\")\n",
        "\n",
        "# for i in range(57,87)\n",
        "#     print(i)\n",
        "#     PATH =  path = f\"/content/drive/My Drive/PhD/PhD/lstm/model{}/loss.pdf\"\n",
        "#     for file in glob.glob(PATH):\n",
        "#         print(file)\n",
        "#         pdf.savefig(file);\n",
        "#     pdf.close()\n",
        "# print(\"Done\")"
      ],
      "execution_count": null,
      "outputs": []
    }
  ]
}