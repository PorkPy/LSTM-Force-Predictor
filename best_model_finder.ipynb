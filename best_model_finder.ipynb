{
  "nbformat": 4,
  "nbformat_minor": 0,
  "metadata": {
    "colab": {
      "name": "best_model_finder",
      "provenance": [],
      "collapsed_sections": [],
      "authorship_tag": "ABX9TyPU3c5SCeI2VxzVQO/g1oJj",
      "include_colab_link": true
    },
    "kernelspec": {
      "name": "python3",
      "display_name": "Python 3"
    }
  },
  "cells": [
    {
      "cell_type": "markdown",
      "metadata": {
        "id": "view-in-github",
        "colab_type": "text"
      },
      "source": [
        "<a href=\"https://colab.research.google.com/github/PorkPy/LSTM-Force-Predictor/blob/master/best_model_finder.ipynb\" target=\"_parent\"><img src=\"https://colab.research.google.com/assets/colab-badge.svg\" alt=\"Open In Colab\"/></a>"
      ]
    },
    {
      "cell_type": "code",
      "metadata": {
        "id": "vf-M6981-Qyo",
        "colab_type": "code",
        "colab": {
          "base_uri": "https://localhost:8080/",
          "height": 34
        },
        "outputId": "9b8cd3ce-fece-4bd4-9125-2bb33616122f"
      },
      "source": [
        "import glob\n",
        "import pandas as pd\n",
        "import matplotlib.pyplot as plt\n",
        "from matplotlib.pyplot import figure\n",
        "import matplotlib.ticker as plticker\n",
        "from matplotlib.backends.backend_pdf import PdfPages\n",
        "\n",
        "%matplotlib \n",
        "\n"
      ],
      "execution_count": 1,
      "outputs": [
        {
          "output_type": "stream",
          "text": [
            "Using matplotlib backend: agg\n"
          ],
          "name": "stdout"
        }
      ]
    },
    {
      "cell_type": "code",
      "metadata": {
        "id": "UuXDyS-VfAva",
        "colab_type": "code",
        "colab": {
          "base_uri": "https://localhost:8080/",
          "height": 34
        },
        "outputId": "ff6dce33-6c1d-4c78-a8e6-149b25aaa9b4"
      },
      "source": [
        "from google.colab import drive\n",
        "drive.mount('/content/drive')"
      ],
      "execution_count": 2,
      "outputs": [
        {
          "output_type": "stream",
          "text": [
            "Drive already mounted at /content/drive; to attempt to forcibly remount, call drive.mount(\"/content/drive\", force_remount=True).\n"
          ],
          "name": "stdout"
        }
      ]
    },
    {
      "cell_type": "code",
      "metadata": {
        "id": "bkaTRCgF_Adn",
        "colab_type": "code",
        "colab": {}
      },
      "source": [
        "def find_file(mode_dir):\n",
        "    \n",
        "    means = []\n",
        "    std_dev = []\n",
        "    max = []\n",
        "    PATH =  path = f\"/content/drive/My Drive/PhD/PhD/lstm/{model_dir}/*/*.csv\"\n",
        "    for file in glob.glob(PATH):\n",
        "        w = pd.read_csv(file, low_memory=False)\n",
        "        x = w.iloc[-3,1]\n",
        "        y = w.iloc[-2,1]\n",
        "        z = w.iloc[-1,1]\n",
        "        \n",
        "        means.append(x)\n",
        "        std_dev.append(y)\n",
        "        max.append(z)\n",
        "    return means, std_dev, max\n",
        "    \n"
      ],
      "execution_count": 3,
      "outputs": []
    },
    {
      "cell_type": "code",
      "metadata": {
        "id": "EnjbCL3XfJ63",
        "colab_type": "code",
        "colab": {
          "base_uri": "https://localhost:8080/",
          "height": 331
        },
        "outputId": "833d6c9c-e87e-4869-b6e1-37137e5b0fbc"
      },
      "source": [
        "model_dir = 'model104'\n",
        "\n",
        "means, std_dev, max = find_file(model_dir)\n",
        "\n",
        "\n",
        "\n",
        "figure(num=None, figsize=(8, 6), dpi=80, facecolor='w', edgecolor='k');\n",
        "figure(figsize=(20,4));\n",
        "fig = plt.figure();\n",
        "plt.plot(means, label='MAE');\n",
        "plt.plot(std_dev, label='std Dev');\n",
        "plt.plot(max, label='Max Values');\n",
        "plt.xlabel(\"100 epochs\", labelpad=14);\n",
        "plt.ylabel(\"Error (N)\", labelpad=14);\n",
        "plt.title(f\"Testing Error {model_dir}\", fontsize=20);\n",
        "\n",
        "plt.grid(True);\n",
        "plt.legend();\n",
        "plt.tight_layout();\n",
        "plt.show();\n"
      ],
      "execution_count": 4,
      "outputs": [
        {
          "output_type": "display_data",
          "data": {
            "text/plain": [
              "<Figure size 640x480 with 0 Axes>"
            ]
          },
          "metadata": {
            "tags": []
          }
        },
        {
          "output_type": "display_data",
          "data": {
            "text/plain": [
              "<Figure size 1440x288 with 0 Axes>"
            ]
          },
          "metadata": {
            "tags": []
          }
        },
        {
          "output_type": "display_data",
          "data": {
            "image/png": "[encoded data removed]",
            "text/plain": [
              "<Figure size 432x288 with 1 Axes>"
            ]
          },
          "metadata": {
            "tags": [],
            "needs_background": "light"
          }
        }
      ]
    },
    {
      "cell_type": "code",
      "metadata": {
        "id": "R9JExTQrgcOC",
        "colab_type": "code",
        "colab": {
          "base_uri": "https://localhost:8080/",
          "height": 34
        },
        "outputId": "699d642f-d113-4631-b72a-639f1e62ae3e"
      },
      "source": [
        "pdf = PdfPages(f\"/content/drive/My Drive/PhD/PhD/lstm/{model_dir}/error.pdf\")\n",
        "\n",
        "# save the current figure\n",
        "pdf.savefig(fig);\n",
        "# destroy the current figure\n",
        "plt.clf()\n",
        "# close the object\n",
        "pdf.close()\n"
      ],
      "execution_count": 5,
      "outputs": [
        {
          "output_type": "display_data",
          "data": {
            "text/plain": [
              "<Figure size 432x288 with 0 Axes>"
            ]
          },
          "metadata": {
            "tags": []
          }
        }
      ]
    }
  ]
}