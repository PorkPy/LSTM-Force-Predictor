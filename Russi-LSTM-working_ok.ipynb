{
 "cells": [
  {
   "cell_type": "markdown",
   "metadata": {},
   "source": [
    "CPython 3.7.6\n",
    "IPython 7.12.0\n",
    "\n",
    "numpy 1.18.1\n",
    "pandas 1.0.1\n",
    "torch 1.4.0"
   ]
  },
  {
   "cell_type": "code",
   "execution_count": 1,
   "metadata": {
    "ExecuteTime": {
     "end_time": "2020-09-16T10:32:58.304500Z",
     "start_time": "2020-09-16T10:32:57.270151Z"
    }
   },
   "outputs": [
    {
     "data": {
      "text/plain": [
       "<torch._C.Generator at 0x7fcbb7b3b590>"
      ]
     },
     "execution_count": 1,
     "metadata": {},
     "output_type": "execute_result"
    }
   ],
   "source": [
    "import torch\n",
    "\n",
    "import os\n",
    "import numpy as np\n",
    "import pandas as pd\n",
    "from tqdm import tqdm\n",
    "import seaborn as sns\n",
    "from pylab import rcParams\n",
    "import matplotlib.pyplot as plt\n",
    "from matplotlib import rc\n",
    "from sklearn.preprocessing import MinMaxScaler\n",
    "from pandas.plotting import register_matplotlib_converters\n",
    "from torch import nn, optim\n",
    "\n",
    "%matplotlib inline\n",
    "%config InlineBackend.figure_format='retina'\n",
    "\n",
    "sns.set(style='whitegrid', palette='muted', font_scale=1.2)\n",
    "\n",
    "HAPPY_COLORS_PALETTE = [\"#01BEFE\", \"#FFDD00\", \"#FF7D00\", \"#FF006D\", \"#93D30C\", \"#8F00FF\"]\n",
    "\n",
    "sns.set_palette(sns.color_palette(HAPPY_COLORS_PALETTE))\n",
    "\n",
    "rcParams['figure.figsize'] = 14, 10\n",
    "register_matplotlib_converters()\n",
    "\n",
    "RANDOM_SEED = 42\n",
    "np.random.seed(RANDOM_SEED)\n",
    "torch.manual_seed(RANDOM_SEED)"
   ]
  },
  {
   "cell_type": "markdown",
   "metadata": {},
   "source": [
    "## Check cuda is available:\n",
    "Output will return True is cuda is available and False is not."
   ]
  },
  {
   "cell_type": "code",
   "execution_count": 2,
   "metadata": {
    "ExecuteTime": {
     "end_time": "2020-09-16T10:32:58.317873Z",
     "start_time": "2020-09-16T10:32:58.307267Z"
    }
   },
   "outputs": [
    {
     "data": {
      "text/plain": [
       "False"
      ]
     },
     "execution_count": 2,
     "metadata": {},
     "output_type": "execute_result"
    }
   ],
   "source": [
    "torch.cuda.is_available()"
   ]
  },
  {
   "cell_type": "markdown",
   "metadata": {},
   "source": [
    "## Package Version Check\n",
    "Install Watermark to check package versions.\n",
    "\n",
    "Versions used here are-\n",
    "\n",
    "    CPython 3.7.6\n",
    "    IPyhon 7.12.0\n",
    "\n",
    "    numpy: 1.18.1\n",
    "    pandas: 1.0.1\n",
    "    torch: 1.4.0"
   ]
  },
  {
   "cell_type": "code",
   "execution_count": 3,
   "metadata": {
    "ExecuteTime": {
     "end_time": "2020-09-16T10:32:59.784786Z",
     "start_time": "2020-09-16T10:32:58.319659Z"
    }
   },
   "outputs": [
    {
     "name": "stdout",
     "output_type": "stream",
     "text": [
      "CPython 3.7.6\n",
      "IPython 7.12.0\n",
      "\n",
      "numpy 1.18.1\n",
      "pandas 1.0.1\n",
      "torch 1.4.0\n"
     ]
    }
   ],
   "source": [
    "!pip install -Uq watermark\n",
    "%reload_ext watermark\n",
    "%watermark -v -p numpy,pandas,torch"
   ]
  },
  {
   "cell_type": "markdown",
   "metadata": {},
   "source": [
    "## Import Data:\n",
    "Read in the robot joint and force data.\n",
    "Here, the data was clipped to 5000 because the local computer/GPU would run out of memery if any higher.\n",
    "This was before it was descovered that batches of data could be fetched individually. "
   ]
  },
  {
   "cell_type": "code",
   "execution_count": 4,
   "metadata": {
    "ExecuteTime": {
     "end_time": "2020-09-16T10:32:59.883487Z",
     "start_time": "2020-09-16T10:32:59.786415Z"
    },
    "scrolled": false
   },
   "outputs": [
    {
     "data": {
      "text/html": [
       "<div>\n",
       "<style scoped>\n",
       "    .dataframe tbody tr th:only-of-type {\n",
       "        vertical-align: middle;\n",
       "    }\n",
       "\n",
       "    .dataframe tbody tr th {\n",
       "        vertical-align: top;\n",
       "    }\n",
       "\n",
       "    .dataframe thead th {\n",
       "        text-align: right;\n",
       "    }\n",
       "</style>\n",
       "<table border=\"1\" class=\"dataframe\">\n",
       "  <thead>\n",
       "    <tr style=\"text-align: right;\">\n",
       "      <th></th>\n",
       "      <th>Force Vec</th>\n",
       "      <th>joint_0</th>\n",
       "      <th>joint_1</th>\n",
       "      <th>joint_2</th>\n",
       "      <th>joint_3</th>\n",
       "      <th>joint_4</th>\n",
       "      <th>joint_5</th>\n",
       "    </tr>\n",
       "  </thead>\n",
       "  <tbody>\n",
       "    <tr>\n",
       "      <th>0</th>\n",
       "      <td>0.030003</td>\n",
       "      <td>1.404830</td>\n",
       "      <td>-1.171765</td>\n",
       "      <td>2.483047</td>\n",
       "      <td>-2.862827</td>\n",
       "      <td>-1.566874</td>\n",
       "      <td>2.720634</td>\n",
       "    </tr>\n",
       "    <tr>\n",
       "      <th>1</th>\n",
       "      <td>0.185473</td>\n",
       "      <td>1.404794</td>\n",
       "      <td>-1.171765</td>\n",
       "      <td>2.483070</td>\n",
       "      <td>-2.862839</td>\n",
       "      <td>-1.566886</td>\n",
       "      <td>2.720623</td>\n",
       "    </tr>\n",
       "    <tr>\n",
       "      <th>2</th>\n",
       "      <td>0.090554</td>\n",
       "      <td>1.404842</td>\n",
       "      <td>-1.171752</td>\n",
       "      <td>2.483034</td>\n",
       "      <td>-2.862851</td>\n",
       "      <td>-1.566910</td>\n",
       "      <td>2.720611</td>\n",
       "    </tr>\n",
       "    <tr>\n",
       "      <th>3</th>\n",
       "      <td>0.100997</td>\n",
       "      <td>1.404818</td>\n",
       "      <td>-1.171752</td>\n",
       "      <td>2.483070</td>\n",
       "      <td>-2.862839</td>\n",
       "      <td>-1.566910</td>\n",
       "      <td>2.720634</td>\n",
       "    </tr>\n",
       "    <tr>\n",
       "      <th>4</th>\n",
       "      <td>0.054774</td>\n",
       "      <td>1.404806</td>\n",
       "      <td>-1.171777</td>\n",
       "      <td>2.483058</td>\n",
       "      <td>-2.862863</td>\n",
       "      <td>-1.566886</td>\n",
       "      <td>2.720611</td>\n",
       "    </tr>\n",
       "  </tbody>\n",
       "</table>\n",
       "</div>"
      ],
      "text/plain": [
       "   Force Vec   joint_0   joint_1   joint_2   joint_3   joint_4   joint_5\n",
       "0   0.030003  1.404830 -1.171765  2.483047 -2.862827 -1.566874  2.720634\n",
       "1   0.185473  1.404794 -1.171765  2.483070 -2.862839 -1.566886  2.720623\n",
       "2   0.090554  1.404842 -1.171752  2.483034 -2.862851 -1.566910  2.720611\n",
       "3   0.100997  1.404818 -1.171752  2.483070 -2.862839 -1.566910  2.720634\n",
       "4   0.054774  1.404806 -1.171777  2.483058 -2.862863 -1.566886  2.720611"
      ]
     },
     "execution_count": 4,
     "metadata": {},
     "output_type": "execute_result"
    }
   ],
   "source": [
    "data = pd.read_csv(\"/home/ur10pc/Desktop/robot_data2/80k_data/all_joints_and_force.csv\")\n",
    "data = data[:5000]\n",
    "data.head()"
   ]
  },
  {
   "cell_type": "markdown",
   "metadata": {},
   "source": [
    "## Smooth Force Data:\n",
    "Using the pandas mean method with a rolling window of 200 samples. The number of samples was found experimentally and provided good noise reduction while maintaining a good trend. "
   ]
  },
  {
   "cell_type": "code",
   "execution_count": 5,
   "metadata": {
    "ExecuteTime": {
     "end_time": "2020-09-16T10:32:59.903558Z",
     "start_time": "2020-09-16T10:32:59.884857Z"
    },
    "scrolled": false
   },
   "outputs": [
    {
     "name": "stdout",
     "output_type": "stream",
     "text": [
      "0    0.030003\n",
      "1    0.185473\n",
      "2    0.090554\n",
      "3    0.100997\n",
      "4    0.054774\n",
      "Name: Force Vec, dtype: float64\n"
     ]
    },
    {
     "data": {
      "text/html": [
       "<div>\n",
       "<style scoped>\n",
       "    .dataframe tbody tr th:only-of-type {\n",
       "        vertical-align: middle;\n",
       "    }\n",
       "\n",
       "    .dataframe tbody tr th {\n",
       "        vertical-align: top;\n",
       "    }\n",
       "\n",
       "    .dataframe thead th {\n",
       "        text-align: right;\n",
       "    }\n",
       "</style>\n",
       "<table border=\"1\" class=\"dataframe\">\n",
       "  <thead>\n",
       "    <tr style=\"text-align: right;\">\n",
       "      <th></th>\n",
       "      <th>Force Vec</th>\n",
       "      <th>joint_0</th>\n",
       "      <th>joint_1</th>\n",
       "      <th>joint_2</th>\n",
       "      <th>joint_3</th>\n",
       "      <th>joint_4</th>\n",
       "      <th>joint_5</th>\n",
       "      <th>force_mean</th>\n",
       "    </tr>\n",
       "  </thead>\n",
       "  <tbody>\n",
       "    <tr>\n",
       "      <th>0</th>\n",
       "      <td>0.030003</td>\n",
       "      <td>1.404830</td>\n",
       "      <td>-1.171765</td>\n",
       "      <td>2.483047</td>\n",
       "      <td>-2.862827</td>\n",
       "      <td>-1.566874</td>\n",
       "      <td>2.720634</td>\n",
       "      <td>NaN</td>\n",
       "    </tr>\n",
       "    <tr>\n",
       "      <th>1</th>\n",
       "      <td>0.185473</td>\n",
       "      <td>1.404794</td>\n",
       "      <td>-1.171765</td>\n",
       "      <td>2.483070</td>\n",
       "      <td>-2.862839</td>\n",
       "      <td>-1.566886</td>\n",
       "      <td>2.720623</td>\n",
       "      <td>NaN</td>\n",
       "    </tr>\n",
       "    <tr>\n",
       "      <th>2</th>\n",
       "      <td>0.090554</td>\n",
       "      <td>1.404842</td>\n",
       "      <td>-1.171752</td>\n",
       "      <td>2.483034</td>\n",
       "      <td>-2.862851</td>\n",
       "      <td>-1.566910</td>\n",
       "      <td>2.720611</td>\n",
       "      <td>NaN</td>\n",
       "    </tr>\n",
       "    <tr>\n",
       "      <th>3</th>\n",
       "      <td>0.100997</td>\n",
       "      <td>1.404818</td>\n",
       "      <td>-1.171752</td>\n",
       "      <td>2.483070</td>\n",
       "      <td>-2.862839</td>\n",
       "      <td>-1.566910</td>\n",
       "      <td>2.720634</td>\n",
       "      <td>NaN</td>\n",
       "    </tr>\n",
       "    <tr>\n",
       "      <th>4</th>\n",
       "      <td>0.054774</td>\n",
       "      <td>1.404806</td>\n",
       "      <td>-1.171777</td>\n",
       "      <td>2.483058</td>\n",
       "      <td>-2.862863</td>\n",
       "      <td>-1.566886</td>\n",
       "      <td>2.720611</td>\n",
       "      <td>NaN</td>\n",
       "    </tr>\n",
       "    <tr>\n",
       "      <th>5</th>\n",
       "      <td>0.325884</td>\n",
       "      <td>1.404782</td>\n",
       "      <td>-1.171777</td>\n",
       "      <td>2.483034</td>\n",
       "      <td>-2.862851</td>\n",
       "      <td>-1.566910</td>\n",
       "      <td>2.720623</td>\n",
       "      <td>NaN</td>\n",
       "    </tr>\n",
       "    <tr>\n",
       "      <th>6</th>\n",
       "      <td>0.273862</td>\n",
       "      <td>1.404818</td>\n",
       "      <td>-1.171777</td>\n",
       "      <td>2.483082</td>\n",
       "      <td>-2.862863</td>\n",
       "      <td>-1.566898</td>\n",
       "      <td>2.720611</td>\n",
       "      <td>NaN</td>\n",
       "    </tr>\n",
       "    <tr>\n",
       "      <th>7</th>\n",
       "      <td>0.073489</td>\n",
       "      <td>1.404842</td>\n",
       "      <td>-1.171765</td>\n",
       "      <td>2.483058</td>\n",
       "      <td>-2.862851</td>\n",
       "      <td>-1.566886</td>\n",
       "      <td>2.720611</td>\n",
       "      <td>NaN</td>\n",
       "    </tr>\n",
       "    <tr>\n",
       "      <th>8</th>\n",
       "      <td>0.083067</td>\n",
       "      <td>1.404818</td>\n",
       "      <td>-1.171765</td>\n",
       "      <td>2.483070</td>\n",
       "      <td>-2.862815</td>\n",
       "      <td>-1.566886</td>\n",
       "      <td>2.720623</td>\n",
       "      <td>NaN</td>\n",
       "    </tr>\n",
       "    <tr>\n",
       "      <th>9</th>\n",
       "      <td>0.054776</td>\n",
       "      <td>1.404830</td>\n",
       "      <td>-1.171789</td>\n",
       "      <td>2.483047</td>\n",
       "      <td>-2.862851</td>\n",
       "      <td>-1.566922</td>\n",
       "      <td>2.720646</td>\n",
       "      <td>NaN</td>\n",
       "    </tr>\n",
       "  </tbody>\n",
       "</table>\n",
       "</div>"
      ],
      "text/plain": [
       "   Force Vec   joint_0   joint_1   joint_2   joint_3   joint_4   joint_5  \\\n",
       "0   0.030003  1.404830 -1.171765  2.483047 -2.862827 -1.566874  2.720634   \n",
       "1   0.185473  1.404794 -1.171765  2.483070 -2.862839 -1.566886  2.720623   \n",
       "2   0.090554  1.404842 -1.171752  2.483034 -2.862851 -1.566910  2.720611   \n",
       "3   0.100997  1.404818 -1.171752  2.483070 -2.862839 -1.566910  2.720634   \n",
       "4   0.054774  1.404806 -1.171777  2.483058 -2.862863 -1.566886  2.720611   \n",
       "5   0.325884  1.404782 -1.171777  2.483034 -2.862851 -1.566910  2.720623   \n",
       "6   0.273862  1.404818 -1.171777  2.483082 -2.862863 -1.566898  2.720611   \n",
       "7   0.073489  1.404842 -1.171765  2.483058 -2.862851 -1.566886  2.720611   \n",
       "8   0.083067  1.404818 -1.171765  2.483070 -2.862815 -1.566886  2.720623   \n",
       "9   0.054776  1.404830 -1.171789  2.483047 -2.862851 -1.566922  2.720646   \n",
       "\n",
       "   force_mean  \n",
       "0         NaN  \n",
       "1         NaN  \n",
       "2         NaN  \n",
       "3         NaN  \n",
       "4         NaN  \n",
       "5         NaN  \n",
       "6         NaN  \n",
       "7         NaN  \n",
       "8         NaN  \n",
       "9         NaN  "
      ]
     },
     "execution_count": 5,
     "metadata": {},
     "output_type": "execute_result"
    }
   ],
   "source": [
    "print(data.iloc[:,0].head())\n",
    "data['force_mean'] = data.iloc[:,0].rolling(window=200).mean()\n",
    "data.head(10)"
   ]
  },
  {
   "cell_type": "markdown",
   "metadata": {},
   "source": [
    "## Format Data\n",
    "As the first 200 samples from the first trajectory have been used to smooth the proceeding samples, the trajectory itself can no longer be used, therefore the entire trajectory needs to be removed. \n",
    "Plus, we no longer need the 'Force Vec' column so that can be dropped."
   ]
  },
  {
   "cell_type": "code",
   "execution_count": 6,
   "metadata": {
    "ExecuteTime": {
     "end_time": "2020-09-16T10:32:59.920734Z",
     "start_time": "2020-09-16T10:32:59.905254Z"
    }
   },
   "outputs": [
    {
     "data": {
      "text/html": [
       "<div>\n",
       "<style scoped>\n",
       "    .dataframe tbody tr th:only-of-type {\n",
       "        vertical-align: middle;\n",
       "    }\n",
       "\n",
       "    .dataframe tbody tr th {\n",
       "        vertical-align: top;\n",
       "    }\n",
       "\n",
       "    .dataframe thead th {\n",
       "        text-align: right;\n",
       "    }\n",
       "</style>\n",
       "<table border=\"1\" class=\"dataframe\">\n",
       "  <thead>\n",
       "    <tr style=\"text-align: right;\">\n",
       "      <th></th>\n",
       "      <th>joint_0</th>\n",
       "      <th>joint_1</th>\n",
       "      <th>joint_2</th>\n",
       "      <th>joint_3</th>\n",
       "      <th>joint_4</th>\n",
       "      <th>joint_5</th>\n",
       "      <th>force_mean</th>\n",
       "    </tr>\n",
       "  </thead>\n",
       "  <tbody>\n",
       "    <tr>\n",
       "      <th>0</th>\n",
       "      <td>1.404734</td>\n",
       "      <td>-1.171789</td>\n",
       "      <td>2.483022</td>\n",
       "      <td>-2.862731</td>\n",
       "      <td>-1.566982</td>\n",
       "      <td>2.720730</td>\n",
       "      <td>6.751787</td>\n",
       "    </tr>\n",
       "    <tr>\n",
       "      <th>1</th>\n",
       "      <td>1.404770</td>\n",
       "      <td>-1.171825</td>\n",
       "      <td>2.483047</td>\n",
       "      <td>-2.862755</td>\n",
       "      <td>-1.567006</td>\n",
       "      <td>2.720706</td>\n",
       "      <td>6.728010</td>\n",
       "    </tr>\n",
       "    <tr>\n",
       "      <th>2</th>\n",
       "      <td>1.404722</td>\n",
       "      <td>-1.171849</td>\n",
       "      <td>2.483022</td>\n",
       "      <td>-2.862755</td>\n",
       "      <td>-1.567018</td>\n",
       "      <td>2.720730</td>\n",
       "      <td>6.698278</td>\n",
       "    </tr>\n",
       "    <tr>\n",
       "      <th>3</th>\n",
       "      <td>1.404746</td>\n",
       "      <td>-1.171800</td>\n",
       "      <td>2.483034</td>\n",
       "      <td>-2.862755</td>\n",
       "      <td>-1.567006</td>\n",
       "      <td>2.720730</td>\n",
       "      <td>6.683689</td>\n",
       "    </tr>\n",
       "    <tr>\n",
       "      <th>4</th>\n",
       "      <td>1.404746</td>\n",
       "      <td>-1.171812</td>\n",
       "      <td>2.483058</td>\n",
       "      <td>-2.862743</td>\n",
       "      <td>-1.566994</td>\n",
       "      <td>2.720730</td>\n",
       "      <td>6.669569</td>\n",
       "    </tr>\n",
       "  </tbody>\n",
       "</table>\n",
       "</div>"
      ],
      "text/plain": [
       "    joint_0   joint_1   joint_2   joint_3   joint_4   joint_5  force_mean\n",
       "0  1.404734 -1.171789  2.483022 -2.862731 -1.566982  2.720730    6.751787\n",
       "1  1.404770 -1.171825  2.483047 -2.862755 -1.567006  2.720706    6.728010\n",
       "2  1.404722 -1.171849  2.483022 -2.862755 -1.567018  2.720730    6.698278\n",
       "3  1.404746 -1.171800  2.483034 -2.862755 -1.567006  2.720730    6.683689\n",
       "4  1.404746 -1.171812  2.483058 -2.862743 -1.566994  2.720730    6.669569"
      ]
     },
     "execution_count": 6,
     "metadata": {},
     "output_type": "execute_result"
    }
   ],
   "source": [
    "data = data[1000:5000].reset_index(drop=True)\n",
    "data = data.drop(['Force Vec'], axis=1)\n",
    "data.shape\n",
    "data.head()"
   ]
  },
  {
   "cell_type": "markdown",
   "metadata": {},
   "source": [
    "## Check DataFrame Shape\n",
    "It's always wize to check the shape of your dataframes."
   ]
  },
  {
   "cell_type": "code",
   "execution_count": 7,
   "metadata": {
    "ExecuteTime": {
     "end_time": "2020-09-16T10:32:59.928386Z",
     "start_time": "2020-09-16T10:32:59.924015Z"
    }
   },
   "outputs": [
    {
     "data": {
      "text/plain": [
       "(4000, 7)"
      ]
     },
     "execution_count": 7,
     "metadata": {},
     "output_type": "execute_result"
    }
   ],
   "source": [
    "data.shape"
   ]
  },
  {
   "cell_type": "markdown",
   "metadata": {},
   "source": [
    "### Scale data"
   ]
  },
  {
   "cell_type": "code",
   "execution_count": 8,
   "metadata": {
    "ExecuteTime": {
     "end_time": "2020-09-16T10:32:59.941494Z",
     "start_time": "2020-09-16T10:32:59.931154Z"
    }
   },
   "outputs": [],
   "source": [
    "features_scaler = data\n",
    "target_scaler = np.asarray(data['force_mean'])\n",
    "\n",
    "scaler = MinMaxScaler(feature_range=(-1, 1))\n",
    "\n",
    "scaler1 = scaler.fit(features_scaler)\n",
    "features = scaler1.transform(features_scaler)\n",
    "\n",
    "scaler2 = scaler.fit(target_scaler.reshape(-1, 1))\n",
    "targets = scaler2.transform(target_scaler.reshape(-1, 1))\n"
   ]
  },
  {
   "cell_type": "code",
   "execution_count": null,
   "metadata": {},
   "outputs": [],
   "source": []
  },
  {
   "cell_type": "code",
   "execution_count": 9,
   "metadata": {
    "ExecuteTime": {
     "end_time": "2020-09-16T10:32:59.951347Z",
     "start_time": "2020-09-16T10:32:59.943747Z"
    }
   },
   "outputs": [],
   "source": [
    "test_data_size = 500\n",
    "X_train = features[:-test_data_size]\n",
    "X_test = features[-test_data_size:]\n",
    "y_train = targets[:-test_data_size]\n",
    "y_test = targets[-test_data_size:]\n"
   ]
  },
  {
   "cell_type": "code",
   "execution_count": 10,
   "metadata": {
    "ExecuteTime": {
     "end_time": "2020-09-16T10:32:59.962335Z",
     "start_time": "2020-09-16T10:32:59.953364Z"
    }
   },
   "outputs": [
    {
     "name": "stdout",
     "output_type": "stream",
     "text": [
      "(3500, 7) (3500, 1) (500, 7) (500, 1)\n"
     ]
    }
   ],
   "source": [
    "print(X_train.shape, y_train.shape, X_test.shape, y_test.shape)"
   ]
  },
  {
   "cell_type": "code",
   "execution_count": 11,
   "metadata": {
    "ExecuteTime": {
     "end_time": "2020-09-16T10:32:59.972614Z",
     "start_time": "2020-09-16T10:32:59.964370Z"
    },
    "scrolled": true
   },
   "outputs": [
    {
     "data": {
      "text/plain": [
       "(500, 7)"
      ]
     },
     "execution_count": 11,
     "metadata": {},
     "output_type": "execute_result"
    }
   ],
   "source": [
    "X_test.shape"
   ]
  },
  {
   "cell_type": "code",
   "execution_count": 12,
   "metadata": {
    "ExecuteTime": {
     "end_time": "2020-09-16T10:32:59.982654Z",
     "start_time": "2020-09-16T10:32:59.974708Z"
    }
   },
   "outputs": [],
   "source": [
    "# features_scaler = data\n",
    "# target_scaler = np.asarray(data['force_mean'])\n",
    "\n",
    "# scaler = MinMaxScaler(feature_range=(-1, 1))\n",
    "\n",
    "# scaler1 = scaler.fit(features_scaler)\n",
    "# X_train = scaler1.transform(X_train)\n",
    "\n",
    "\n",
    "\n",
    "# scaler2 = scaler.fit(target_scaler.reshape(-1,1))\n",
    "# y_train = scaler2.transform(y_train.reshape(-1,1))\n",
    "\n",
    "# scaler3 = scaler.fit(features_scaler)\n",
    "# X_test = scaler3.transform(X_test)\n",
    "\n",
    "\n",
    "# scaler4 = scaler.fit(target_scaler.reshape(-1,1))\n",
    "# y_test = scaler4.transform(y_test)\n",
    "\n",
    "\n",
    "# train_data_normalized = scaler.fit_transform(train_data .reshape(-1, 1))\n",
    "# test_data_normalized = scaler.fit_transform(test_data .reshape(-1, 1))\n",
    "\n",
    "\n",
    "# scaler = MinMaxScaler(feature_range=(-1, 1))\n",
    "\n",
    "# scaler = scaler.fit(train_data)\n",
    "\n",
    "# train_data = scaler.transform(train_data)\n",
    "\n",
    "# test_data = scaler.transform(test_data)\n",
    "\n",
    "# train_data_normalized = scaler.fit_transform(train_data .reshape(-1, 1))\n",
    "# test_data_normalized = scaler.fit_transform(test_data .reshape(-1, 1))\n"
   ]
  },
  {
   "cell_type": "code",
   "execution_count": 13,
   "metadata": {
    "ExecuteTime": {
     "end_time": "2020-09-16T10:33:00.003391Z",
     "start_time": "2020-09-16T10:32:59.984627Z"
    }
   },
   "outputs": [
    {
     "name": "stdout",
     "output_type": "stream",
     "text": [
      "[[-0.80722161 -0.85257162  0.82227675 -0.79638504  0.22971698  0.82490527\n",
      "   0.22603083]\n",
      " [-0.80714234 -0.85265416  0.8223018  -0.79643066  0.22370283  0.82489132\n",
      "   0.22051132]\n",
      " [-0.80724821 -0.85270846  0.82227675 -0.79643066  0.22075472  0.82490527\n",
      "   0.21360962]\n",
      " [-0.80719527 -0.85259877  0.82228927 -0.79643066  0.22370283  0.82490527\n",
      "   0.21022298]] [[0.22603083]\n",
      " [0.22051132]\n",
      " [0.21360962]\n",
      " [0.21022298]]\n"
     ]
    }
   ],
   "source": [
    "\n",
    "print(X_train[:4],y_train[:4])"
   ]
  },
  {
   "cell_type": "code",
   "execution_count": 14,
   "metadata": {
    "ExecuteTime": {
     "end_time": "2020-09-16T10:33:00.019294Z",
     "start_time": "2020-09-16T10:33:00.006131Z"
    }
   },
   "outputs": [],
   "source": [
    "\n",
    "def train_create_sequences( seq_length):\n",
    "    xs = []\n",
    "    ys = []\n",
    "\n",
    "    for i in range(len(X_train)-seq_length-seq_length):\n",
    "        x = X_train[i:(i+seq_length)]\n",
    "        #print(i,(i+seq_length))\n",
    "        y = y_train[i+seq_length]\n",
    "        #print(i+seq_length+1)\n",
    "        xs.append(x)\n",
    "        ys.append(y)\n",
    "\n",
    "    return np.array(xs), np.array(ys)\n",
    "\n",
    "def test_create_sequences(seq_length):\n",
    "    xs = []\n",
    "    ys = []\n",
    "\n",
    "    for i in range(len(X_test)-seq_length-seq_length):\n",
    "        x = X_test[i:(i+seq_length)]\n",
    "        #print(i,(i+seq_length))\n",
    "        y = y_test[i+seq_length]\n",
    "        #print(i+seq_length+1)\n",
    "        xs.append(x)\n",
    "        ys.append(y)\n",
    "\n",
    "    return np.array(xs), np.array(ys)"
   ]
  },
  {
   "cell_type": "code",
   "execution_count": 15,
   "metadata": {
    "ExecuteTime": {
     "end_time": "2020-09-16T10:33:00.033382Z",
     "start_time": "2020-09-16T10:33:00.020725Z"
    }
   },
   "outputs": [
    {
     "data": {
      "text/plain": [
       "array([[-0.80722161, -0.85257162,  0.82227675, -0.79638504,  0.22971698,\n",
       "         0.82490527,  0.22603083],\n",
       "       [-0.80714234, -0.85265416,  0.8223018 , -0.79643066,  0.22370283,\n",
       "         0.82489132,  0.22051132],\n",
       "       [-0.80724821, -0.85270846,  0.82227675, -0.79643066,  0.22075472,\n",
       "         0.82490527,  0.21360962],\n",
       "       [-0.80719527, -0.85259877,  0.82228927, -0.79643066,  0.22370283,\n",
       "         0.82490527,  0.21022298]])"
      ]
     },
     "execution_count": 15,
     "metadata": {},
     "output_type": "execute_result"
    }
   ],
   "source": [
    "X_train[:4]"
   ]
  },
  {
   "cell_type": "markdown",
   "metadata": {},
   "source": [
    "## Convert Sequences to CUDA Tensors\n",
    "Here we call the train_create_sequences and test_create_sequences functions to build our sequence data and then convert them into torch.cuda tensors for use on the GPU.\n",
    "If you are not using a GPU, then you would instead use torch.FloatTensor(). This conversion is necessery for Torch to manipulate tensors using built in attributes and for casting to a GPU if necessary. "
   ]
  },
  {
   "cell_type": "code",
   "execution_count": 16,
   "metadata": {
    "ExecuteTime": {
     "end_time": "2020-09-16T10:33:00.254540Z",
     "start_time": "2020-09-16T10:33:00.035925Z"
    }
   },
   "outputs": [
    {
     "name": "stdout",
     "output_type": "stream",
     "text": [
      "(3490, 5, 7) (3490, 1)\n",
      "(490, 5, 7) (490, 1)\n"
     ]
    },
    {
     "ename": "RuntimeError",
     "evalue": "cuda runtime error (804) : forward compatibility was attempted on non supported HW at /opt/conda/conda-bld/pytorch_1579022060824/work/aten/src/THC/THCGeneral.cpp:50",
     "output_type": "error",
     "traceback": [
      "\u001b[0;31m-----------------------------------------------------------------\u001b[0m",
      "\u001b[0;31mRuntimeError\u001b[0m                    Traceback (most recent call last)",
      "\u001b[0;32m<ipython-input-16-c3f5962f35c7>\u001b[0m in \u001b[0;36m<module>\u001b[0;34m\u001b[0m\n\u001b[1;32m      7\u001b[0m \u001b[0mprint\u001b[0m\u001b[0;34m(\u001b[0m\u001b[0mX_test\u001b[0m\u001b[0;34m.\u001b[0m\u001b[0mshape\u001b[0m\u001b[0;34m,\u001b[0m \u001b[0my_test\u001b[0m\u001b[0;34m.\u001b[0m\u001b[0mshape\u001b[0m\u001b[0;34m)\u001b[0m\u001b[0;34m\u001b[0m\u001b[0;34m\u001b[0m\u001b[0m\n\u001b[1;32m      8\u001b[0m \u001b[0;34m\u001b[0m\u001b[0m\n\u001b[0;32m----> 9\u001b[0;31m \u001b[0mX_train\u001b[0m \u001b[0;34m=\u001b[0m \u001b[0mtorch\u001b[0m\u001b[0;34m.\u001b[0m\u001b[0mcuda\u001b[0m\u001b[0;34m.\u001b[0m\u001b[0mFloatTensor\u001b[0m\u001b[0;34m(\u001b[0m\u001b[0mX_train\u001b[0m\u001b[0;34m)\u001b[0m\u001b[0;34m\u001b[0m\u001b[0;34m\u001b[0m\u001b[0m\n\u001b[0m\u001b[1;32m     10\u001b[0m \u001b[0my_train\u001b[0m \u001b[0;34m=\u001b[0m \u001b[0mtorch\u001b[0m\u001b[0;34m.\u001b[0m\u001b[0mcuda\u001b[0m\u001b[0;34m.\u001b[0m\u001b[0mFloatTensor\u001b[0m\u001b[0;34m(\u001b[0m\u001b[0my_train\u001b[0m\u001b[0;34m)\u001b[0m\u001b[0;34m\u001b[0m\u001b[0;34m\u001b[0m\u001b[0m\n\u001b[1;32m     11\u001b[0m \u001b[0mX_test\u001b[0m \u001b[0;34m=\u001b[0m \u001b[0mtorch\u001b[0m\u001b[0;34m.\u001b[0m\u001b[0mcuda\u001b[0m\u001b[0;34m.\u001b[0m\u001b[0mFloatTensor\u001b[0m\u001b[0;34m(\u001b[0m\u001b[0mX_test\u001b[0m\u001b[0;34m)\u001b[0m\u001b[0;34m\u001b[0m\u001b[0;34m\u001b[0m\u001b[0m\n",
      "\u001b[0;32m~/anaconda3/envs/pytorch/lib/python3.7/site-packages/torch/cuda/__init__.py\u001b[0m in \u001b[0;36m_lazy_init\u001b[0;34m()\u001b[0m\n\u001b[1;32m    195\u001b[0m                 \"Cannot re-initialize CUDA in forked subprocess. \" + msg)\n\u001b[1;32m    196\u001b[0m         \u001b[0m_check_driver\u001b[0m\u001b[0;34m(\u001b[0m\u001b[0;34m)\u001b[0m\u001b[0;34m\u001b[0m\u001b[0;34m\u001b[0m\u001b[0m\n\u001b[0;32m--> 197\u001b[0;31m         \u001b[0mtorch\u001b[0m\u001b[0;34m.\u001b[0m\u001b[0m_C\u001b[0m\u001b[0;34m.\u001b[0m\u001b[0m_cuda_init\u001b[0m\u001b[0;34m(\u001b[0m\u001b[0;34m)\u001b[0m\u001b[0;34m\u001b[0m\u001b[0;34m\u001b[0m\u001b[0m\n\u001b[0m\u001b[1;32m    198\u001b[0m         \u001b[0m_cudart\u001b[0m \u001b[0;34m=\u001b[0m \u001b[0m_load_cudart\u001b[0m\u001b[0;34m(\u001b[0m\u001b[0;34m)\u001b[0m\u001b[0;34m\u001b[0m\u001b[0;34m\u001b[0m\u001b[0m\n\u001b[1;32m    199\u001b[0m         \u001b[0m_cudart\u001b[0m\u001b[0;34m.\u001b[0m\u001b[0mcudaGetErrorName\u001b[0m\u001b[0;34m.\u001b[0m\u001b[0mrestype\u001b[0m \u001b[0;34m=\u001b[0m \u001b[0mctypes\u001b[0m\u001b[0;34m.\u001b[0m\u001b[0mc_char_p\u001b[0m\u001b[0;34m\u001b[0m\u001b[0;34m\u001b[0m\u001b[0m\n",
      "\u001b[0;31mRuntimeError\u001b[0m: cuda runtime error (804) : forward compatibility was attempted on non supported HW at /opt/conda/conda-bld/pytorch_1579022060824/work/aten/src/THC/THCGeneral.cpp:50"
     ]
    }
   ],
   "source": [
    "seq_length = 5 ## Given 5 samples, what will the force be on the 6th?\n",
    "\n",
    "X_train, y_train = train_create_sequences(seq_length)\n",
    "X_test, y_test = test_create_sequences(seq_length)\n",
    "\n",
    "print(X_train.shape, y_train.shape)\n",
    "print(X_test.shape, y_test.shape)\n",
    "\n",
    "X_train = torch.cuda.FloatTensor(X_train)\n",
    "y_train = torch.cuda.FloatTensor(y_train)\n",
    "X_test = torch.cuda.FloatTensor(X_test)\n",
    "y_test = torch.cuda.FloatTensor(y_test)\n",
    "\n"
   ]
  },
  {
   "cell_type": "code",
   "execution_count": null,
   "metadata": {
    "ExecuteTime": {
     "end_time": "2020-09-16T10:33:00.256522Z",
     "start_time": "2020-09-16T10:32:57.144Z"
    }
   },
   "outputs": [],
   "source": [
    "class ForcePredictor(nn.Module):\n",
    "\n",
    "  def __init__(self, n_features, n_hidden, seq_len, n_layers=2):\n",
    "    super(ForcePredictor, self).__init__()\n",
    "\n",
    "    if torch.cuda.is_available():\n",
    "        device = torch.device(\"cuda:0\")\n",
    "        print(\"Running on the GPU\")\n",
    "    else:\n",
    "        device = torch.device(\"cpu\")\n",
    "        print(\"Running on CPU\")\n",
    "    \n",
    "    self.n_hidden = n_hidden\n",
    "    self.seq_len = seq_len\n",
    "    self.n_layers = n_layers\n",
    "\n",
    "    self.lstm = nn.LSTM(\n",
    "      input_size=n_features,\n",
    "      hidden_size=n_hidden,\n",
    "      num_layers=n_layers,\n",
    "      dropout=0.2\n",
    "    )\n",
    "\n",
    "    self.linear = nn.Linear(in_features=n_hidden, out_features=1)\n",
    "    \n",
    "    \n",
    "    \n",
    "  def reset_hidden_state(self):\n",
    "    self.hidden = (\n",
    "        torch.zeros(self.n_layers, self.seq_len, self.n_hidden).to(device),\n",
    "        torch.zeros(self.n_layers, self.seq_len, self.n_hidden).to(device)\n",
    "    )\n",
    "\n",
    "  def forward(self, sequences):\n",
    "    lstm_out, self.hidden = self.lstm(\n",
    "      sequences.view(len(sequences), self.seq_len, -1),\n",
    "      self.hidden\n",
    "    )\n",
    "    last_time_step = \\\n",
    "      lstm_out.view(self.seq_len, len(sequences), self.n_hidden)[-1]\n",
    "    y_pred = self.linear(last_time_step)\n",
    "    return y_pred"
   ]
  },
  {
   "cell_type": "code",
   "execution_count": null,
   "metadata": {
    "ExecuteTime": {
     "end_time": "2020-09-16T10:33:00.257497Z",
     "start_time": "2020-09-16T10:32:57.145Z"
    }
   },
   "outputs": [],
   "source": [
    "def train_model(\n",
    "  model, \n",
    "  train_data, \n",
    "  train_labels, \n",
    "  test_data=None, \n",
    "  test_labels=None\n",
    "):\n",
    "  model = model.to(device)\n",
    "\n",
    "  loss_fn = torch.nn.MSELoss(reduction='mean')\n",
    "\n",
    "  optimiser = torch.optim.Adam(model.parameters(), lr=0.00001)\n",
    "  num_epochs =1000\n",
    "\n",
    "  train_hist = np.zeros(num_epochs)\n",
    "  test_hist = np.zeros(num_epochs)\n",
    "\n",
    "  for t in range(num_epochs):\n",
    "    model.reset_hidden_state()\n",
    "\n",
    "    y_pred = model(X_train)\n",
    "\n",
    "    loss = loss_fn(y_pred.float(), y_train)\n",
    "\n",
    "    if test_data is not None:\n",
    "      with torch.no_grad():\n",
    "        y_test_pred = model(X_test)\n",
    "        test_loss = loss_fn(y_test_pred.float(), y_test)\n",
    "      test_hist[t] = test_loss.item()\n",
    "\n",
    "      if t % 10 == 0:  \n",
    "        print(f'Epoch {t} train loss: {loss.item()} test loss: {test_loss.item()}')\n",
    "    elif t % 10 == 0:\n",
    "      print(f'Epoch {t} train loss: {loss.item()}')\n",
    "\n",
    "    train_hist[t] = loss.item()\n",
    "    \n",
    "    optimiser.zero_grad()\n",
    "\n",
    "    loss.backward()\n",
    "\n",
    "    optimiser.step()\n",
    "  \n",
    "  return model.eval(), train_hist, test_hist"
   ]
  },
  {
   "cell_type": "code",
   "execution_count": null,
   "metadata": {
    "ExecuteTime": {
     "end_time": "2020-09-16T10:33:00.258635Z",
     "start_time": "2020-09-16T10:32:57.147Z"
    }
   },
   "outputs": [],
   "source": [
    "if torch.cuda.is_available():\n",
    "    device = torch.device(\"cuda:0\")\n",
    "    print(\"Running on the GPU\")\n",
    "else:\n",
    "    device = torch.device(\"cpu\")\n",
    "    print(\"Running on CPU\")\n",
    "    "
   ]
  },
  {
   "cell_type": "code",
   "execution_count": null,
   "metadata": {
    "ExecuteTime": {
     "end_time": "2020-09-16T10:33:00.259664Z",
     "start_time": "2020-09-16T10:32:57.148Z"
    },
    "scrolled": true
   },
   "outputs": [],
   "source": [
    "print(X_train.shape, y_train.shape)"
   ]
  },
  {
   "cell_type": "code",
   "execution_count": null,
   "metadata": {
    "ExecuteTime": {
     "end_time": "2020-09-16T10:33:00.260563Z",
     "start_time": "2020-09-16T10:32:57.149Z"
    }
   },
   "outputs": [],
   "source": [
    "model = ForcePredictor(\n",
    "  n_features=7, \n",
    "  n_hidden=512, \n",
    "  seq_len=seq_length, \n",
    "  n_layers=2\n",
    ")\n",
    "\n",
    "model, train_hist, test_hist = train_model(\n",
    "  model, \n",
    "  X_train, \n",
    "  y_train, \n",
    "  X_test, \n",
    "  y_test\n",
    ")"
   ]
  },
  {
   "cell_type": "code",
   "execution_count": null,
   "metadata": {
    "ExecuteTime": {
     "end_time": "2020-09-16T10:33:00.261645Z",
     "start_time": "2020-09-16T10:32:57.150Z"
    }
   },
   "outputs": [],
   "source": [
    "plt.plot(train_hist, label=\"Training loss\")\n",
    "plt.plot(test_hist, label=\"Test loss\")\n",
    "#plt.ylim((0, 5))\n",
    "plt.legend();"
   ]
  },
  {
   "cell_type": "code",
   "execution_count": null,
   "metadata": {
    "ExecuteTime": {
     "end_time": "2020-09-16T10:33:00.262713Z",
     "start_time": "2020-09-16T10:32:57.151Z"
    }
   },
   "outputs": [],
   "source": [
    "with torch.no_grad():\n",
    "  test_seq = X_test[:1]\n",
    "  preds = []\n",
    "  for i in range(len(X_test)):\n",
    "    y_test_pred = model(test_seq).to(device)\n",
    "    pred = torch.flatten(y_test_pred).item()\n",
    "    preds.append(pred)\n",
    "    new_seq = X_test[i] \n",
    "    #print(X_test[i])\n",
    "    test_seq = torch.cuda.FloatTensor(new_seq).view(1, seq_length, -1)\n",
    "   "
   ]
  },
  {
   "cell_type": "code",
   "execution_count": null,
   "metadata": {
    "ExecuteTime": {
     "end_time": "2020-09-16T10:33:00.263898Z",
     "start_time": "2020-09-16T10:32:57.152Z"
    },
    "scrolled": true
   },
   "outputs": [],
   "source": [
    "\n",
    "true_cases = scaler.inverse_transform(y_test.cpu())#.flatten().numpy())\n",
    "#print(len(y_test))\n",
    "#print(len(true_cases))\n",
    "\n",
    "predicted_cases = scaler.inverse_transform(\n",
    "  np.expand_dims(preds, axis=0)\n",
    ").flatten()\n",
    "#print(predicted_cases)"
   ]
  },
  {
   "cell_type": "markdown",
   "metadata": {},
   "source": [
    "## Notes to Self:\n",
    "Need to remove the last bit of data to make predictions on!!!\n",
    "or just overlay the data.\n",
    "Need to use all data- shuffle-normalise. \n",
    "Then split into training, validation and testing.\n",
    "Then feed in 1000 samples at a time. If 1000 samples is one epoch, the network will reset  the hidden state after each 1000 samples = 1 trajectory. "
   ]
  },
  {
   "cell_type": "markdown",
   "metadata": {},
   "source": [
    "## Plot Predictions\n",
    "As this is only the beginning of training, testing is done on the training data to see how accurate the model is at making predictions on data that it has already seen. Only once the model can accuratly predict forces on known data can we start to look at generalising to unseen data. \n",
    "As you can see from the chart below, the model is not yet ready to start making predictions on unseen data."
   ]
  },
  {
   "cell_type": "code",
   "execution_count": null,
   "metadata": {
    "ExecuteTime": {
     "end_time": "2020-09-16T10:33:00.264831Z",
     "start_time": "2020-09-16T10:32:57.160Z"
    },
    "scrolled": true
   },
   "outputs": [],
   "source": [
    "daily_cases = X_train[:,-1]\n",
    "daily_cases = pd.DataFrame(X_train)\n",
    "y_train = y_train.cpu()\n",
    "\n",
    "plt.plot(true_cases,label='Real Force')\n",
    "plt.plot(predicted_cases,label='Predicted Force')\n",
    "\n",
    "plt.legend();"
   ]
  }
 ],
 "metadata": {
  "kernelspec": {
   "display_name": "Python 3",
   "language": "python",
   "name": "python3"
  },
  "language_info": {
   "codemirror_mode": {
    "name": "ipython",
    "version": 3
   },
   "file_extension": ".py",
   "mimetype": "text/x-python",
   "name": "python",
   "nbconvert_exporter": "python",
   "pygments_lexer": "ipython3",
   "version": "3.7.6"
  }
 },
 "nbformat": 4,
 "nbformat_minor": 4
}
